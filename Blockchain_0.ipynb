{
 "cells": [
  {
   "cell_type": "code",
   "execution_count": 15,
   "metadata": {},
   "outputs": [],
   "source": [
    "#https://hackernoon.com/learn-blockchains-by-building-one-117428612f46\n",
    "#must install flask and requests for python3.6 - pip install flask requests\n",
    "#modules here\n",
    "import hashlib, flask, requests"
   ]
  },
  {
   "cell_type": "code",
   "execution_count": 16,
   "metadata": {},
   "outputs": [
    {
     "ename": "SyntaxError",
     "evalue": "invalid syntax (<ipython-input-16-31b1e4af6221>, line 50)",
     "output_type": "error",
     "traceback": [
      "\u001b[0;36m  File \u001b[0;32m\"<ipython-input-16-31b1e4af6221>\"\u001b[0;36m, line \u001b[0;32m50\u001b[0m\n\u001b[0;31m    guess = f'{last_proof}{proof}'.encode()\u001b[0m\n\u001b[0m                                 ^\u001b[0m\n\u001b[0;31mSyntaxError\u001b[0m\u001b[0;31m:\u001b[0m invalid syntax\n"
     ]
    }
   ],
   "source": [
    "class Blockchain(object):\n",
    "    def __init__(self):\n",
    "        self.chain=[]\n",
    "        self.current_transactions=[]\n",
    "        \n",
    "        self.new_block(previous_hash=1, proof=100)\n",
    "        \n",
    "    def new_block(self):\n",
    "        # creates a new block and adds it to the chain\n",
    "        block = {\n",
    "            'index': len(self.chain)+1,\n",
    "            'timestamp': time(),\n",
    "            'transactions': self.current_transactions,\n",
    "            'proof': proof,\n",
    "            'previous_hash': previous_hash or self.hash(self.chain[-1])\n",
    "        }\n",
    "        \n",
    "        #reset the current list of transactions\n",
    "        self.current_transactions = []\n",
    "        self.chain.append(block)\n",
    "        return block\n",
    "    \n",
    "    def new_transactions(self):\n",
    "        # adds a new transatction to the list of transactions\\\n",
    "        self.current_transactions.append({\n",
    "                'sender': sender,\n",
    "                'recipient': recipient,\n",
    "                'amount': amount,\n",
    "        })\n",
    "        \n",
    "        return self.last_block['index'] + 1\n",
    "        #pass\n",
    "    \n",
    "    @staticmethod\n",
    "    def hash(block):\n",
    "        #hashes a block\n",
    "        from hashlib import sha256, hexdigest, encode\n",
    "        block_string = json.dumps(blocks, sort_keys=True).encode()\n",
    "        return sha256(block_string).hexdigest()\n",
    "        \n",
    "    \n",
    "    @property\n",
    "    def last_block(self):\n",
    "        #returns the last block in the chain\n",
    "        return self.chain\n",
    "    \n",
    "    @staticmethod\n",
    "    def valid_proof(last_proof, proof):\n",
    "        from hashlib import sha256, hexdigest, encode\n",
    "        guess = f'{last_proof}{proof}'.encode()\n",
    "        guess_hash = sha256(guess).hexdigest()\n",
    "        return guess_hash[:4] == \"0000\""
   ]
  },
  {
   "cell_type": "code",
   "execution_count": 17,
   "metadata": {},
   "outputs": [
    {
     "ename": "SyntaxError",
     "evalue": "invalid syntax (<ipython-input-17-d1d154926c38>, line 5)",
     "output_type": "error",
     "traceback": [
      "\u001b[0;36m  File \u001b[0;32m\"<ipython-input-17-d1d154926c38>\"\u001b[0;36m, line \u001b[0;32m5\u001b[0m\n\u001b[0;31m    while sha256(f'{x*y}'.encode()).hexdigest()[-1] != \"0\":\u001b[0m\n\u001b[0m                        ^\u001b[0m\n\u001b[0;31mSyntaxError\u001b[0m\u001b[0;31m:\u001b[0m invalid syntax\n"
     ]
    }
   ],
   "source": [
    "#POW\n",
    "from hashlib import sha256, hexdigest, encode\n",
    "x=5s\n",
    "y=0\n",
    "while sha256(f'{x*y}'.encode()).hexdigest()[-1] != \"0\":\n",
    "    y+=1\n",
    "print(f'The solution is y = {y}')"
   ]
  },
  {
   "cell_type": "code",
   "execution_count": null,
   "metadata": {},
   "outputs": [],
   "source": []
  }
 ],
 "metadata": {
  "kernelspec": {
   "display_name": "Python 3",
   "language": "python",
   "name": "python3"
  },
  "language_info": {
   "codemirror_mode": {
    "name": "ipython",
    "version": 3
   },
   "file_extension": ".py",
   "mimetype": "text/x-python",
   "name": "python",
   "nbconvert_exporter": "python",
   "pygments_lexer": "ipython3",
   "version": "3.5.2"
  }
 },
 "nbformat": 4,
 "nbformat_minor": 2
}
