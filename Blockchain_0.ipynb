{
 "cells": [
  {
   "cell_type": "code",
   "execution_count": 1,
   "metadata": {},
   "outputs": [],
   "source": [
    "#https://hackernoon.com/learn-blockchains-by-building-one-117428612f46\n",
    "#must install flask and requests for python3.6 - pip install flask requests\n",
    "#modules here\n"
   ]
  },
  {
   "cell_type": "code",
   "execution_count": null,
   "metadata": {},
   "outputs": [],
   "source": [
    "class bchain(object):\n",
    "    def __init__(self):\n",
    "        self.chain=[]\n",
    "        self.current_transactions=[]\n",
    "        \n",
    "    def new_b(self):\n",
    "        # creates a new block and adds it to the chain\n",
    "        self.current_transactions.append({\n",
    "                \n",
    "        })\n",
    "        #pass\n",
    "    \n",
    "    def new_transactions(self):\n",
    "        # adds a new transatction to the list of transactions\\\n",
    "        pass\n",
    "    \n",
    "    @staticmethod\n",
    "    def hash(b):\n",
    "        #hases a block\n",
    "        pass\n",
    "    \n",
    "    @property\n",
    "    def last_b(self):\n",
    "        #returns the last block in the chain\n",
    "        pass\n",
    "    \n",
    "        "
   ]
  }
 ],
 "metadata": {
  "kernelspec": {
   "display_name": "Python 3",
   "language": "python",
   "name": "python3"
  },
  "language_info": {
   "codemirror_mode": {
    "name": "ipython",
    "version": 3
   },
   "file_extension": ".py",
   "mimetype": "text/x-python",
   "name": "python",
   "nbconvert_exporter": "python",
   "pygments_lexer": "ipython3",
   "version": "3.5.2"
  }
 },
 "nbformat": 4,
 "nbformat_minor": 2
}
